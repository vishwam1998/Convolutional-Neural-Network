{
 "cells": [
  {
   "cell_type": "markdown",
   "id": "14dad225",
   "metadata": {},
   "source": [
    "# Sentiment Classification"
   ]
  },
  {
   "cell_type": "markdown",
   "id": "5dccfad3",
   "metadata": {},
   "source": [
    "## Task 1:- Represent each review using an N-gram model"
   ]
  },
  {
   "cell_type": "code",
   "execution_count": 1,
   "id": "56f3936a",
   "metadata": {},
   "outputs": [
    {
     "name": "stderr",
     "output_type": "stream",
     "text": [
      "[nltk_data] Downloading package stopwords to C:\\Users\\Vishwam\n",
      "[nltk_data]     Patel\\AppData\\Roaming\\nltk_data...\n",
      "[nltk_data]   Package stopwords is already up-to-date!\n",
      "[nltk_data] Downloading package omw-1.4 to C:\\Users\\Vishwam\n",
      "[nltk_data]     Patel\\AppData\\Roaming\\nltk_data...\n",
      "[nltk_data]   Package omw-1.4 is already up-to-date!\n",
      "[nltk_data] Downloading package wordnet to C:\\Users\\Vishwam\n",
      "[nltk_data]     Patel\\AppData\\Roaming\\nltk_data...\n",
      "[nltk_data]   Package wordnet is already up-to-date!\n"
     ]
    }
   ],
   "source": [
    "# Load the libraries\n",
    "import numpy as np\n",
    "import pandas as pd\n",
    "from matplotlib import pyplot as plt\n",
    "import seaborn as sns\n",
    "import nltk\n",
    "nltk.download('stopwords')\n",
    "nltk.download('omw-1.4')\n",
    "nltk.download('wordnet')\n",
    "\n",
    "# Importing libraries for NLP techniques to pre-process data\n",
    "from sklearn import preprocessing\n",
    "from sklearn.model_selection import train_test_split\n",
    "from sklearn.feature_extraction.text import TfidfVectorizer\n",
    "from nltk.corpus import stopwords\n",
    "from nltk.stem.porter import PorterStemmer\n",
    "from nltk.stem import LancasterStemmer\n",
    "from nltk.stem import WordNetLemmatizer\n",
    "from nltk.tokenize import word_tokenize, sent_tokenize\n",
    "from bs4 import BeautifulSoup\n",
    "from nltk.tokenize.toktok import ToktokTokenizer\n",
    "from sklearn.linear_model import LogisticRegression, SGDClassifier\n",
    "from sklearn.metrics import accuracy_score, confusion_matrix, classification_report, roc_auc_score, recall_score\n",
    "from sklearn.metrics import f1_score, precision_score, roc_curve\n",
    "\n",
    "# Importing packages for building conventional supervised learning models\n",
    "from sklearn.tree import DecisionTreeClassifier\n",
    "from sklearn.neighbors import KNeighborsClassifier\n",
    "from sklearn.ensemble import GradientBoostingClassifier, RandomForestClassifier\n",
    "from sklearn.model_selection import GridSearchCV\n",
    "from lightgbm import LGBMClassifier\n",
    "\n",
    "# Import methods for building neural networks\n",
    "import tensorflow as tf\n",
    "from tensorflow import keras\n",
    "from keras import layers\n",
    "from keras.models import Sequential\n",
    "from tensorflow.keras.layers import Dense, Dropout\n",
    "from tensorflow.keras.optimizers import RMSprop\n",
    "from keras.callbacks import EarlyStopping\n",
    "\n",
    "# Import KerasClassifier from Keras for connecting neural networks with sklearn and GridSearchCV\n",
    "from keras.wrappers.scikit_learn import KerasClassifier\n",
    "\n",
    "import os\n",
    "import warnings\n",
    "warnings.filterwarnings('ignore')"
   ]
  },
  {
   "cell_type": "markdown",
   "id": "5edaba37",
   "metadata": {},
   "source": [
    "## Load the dataset"
   ]
  },
  {
   "cell_type": "code",
   "execution_count": 2,
   "id": "b8a40529",
   "metadata": {},
   "outputs": [
    {
     "name": "stdout",
     "output_type": "stream",
     "text": [
      "(7463, 2)\n"
     ]
    },
    {
     "data": {
      "text/html": [
       "<div>\n",
       "<style scoped>\n",
       "    .dataframe tbody tr th:only-of-type {\n",
       "        vertical-align: middle;\n",
       "    }\n",
       "\n",
       "    .dataframe tbody tr th {\n",
       "        vertical-align: top;\n",
       "    }\n",
       "\n",
       "    .dataframe thead th {\n",
       "        text-align: right;\n",
       "    }\n",
       "</style>\n",
       "<table border=\"1\" class=\"dataframe\">\n",
       "  <thead>\n",
       "    <tr style=\"text-align: right;\">\n",
       "      <th></th>\n",
       "      <th>Reviews</th>\n",
       "      <th>Sentiments</th>\n",
       "    </tr>\n",
       "  </thead>\n",
       "  <tbody>\n",
       "    <tr>\n",
       "      <th>0</th>\n",
       "      <td>bittersweet comedy/drama full of life , hand g...</td>\n",
       "      <td>pos</td>\n",
       "    </tr>\n",
       "    <tr>\n",
       "      <th>1</th>\n",
       "      <td>you have to pay attention to follow all the st...</td>\n",
       "      <td>pos</td>\n",
       "    </tr>\n",
       "    <tr>\n",
       "      <th>2</th>\n",
       "      <td>overall , interesting as a documentary -- but ...</td>\n",
       "      <td>pos</td>\n",
       "    </tr>\n",
       "    <tr>\n",
       "      <th>3</th>\n",
       "      <td>precocious smarter-than-thou wayward teen stru...</td>\n",
       "      <td>pos</td>\n",
       "    </tr>\n",
       "    <tr>\n",
       "      <th>4</th>\n",
       "      <td>nicolas philibert observes life inside a one-r...</td>\n",
       "      <td>pos</td>\n",
       "    </tr>\n",
       "  </tbody>\n",
       "</table>\n",
       "</div>"
      ],
      "text/plain": [
       "                                             Reviews Sentiments\n",
       "0  bittersweet comedy/drama full of life , hand g...        pos\n",
       "1  you have to pay attention to follow all the st...        pos\n",
       "2  overall , interesting as a documentary -- but ...        pos\n",
       "3  precocious smarter-than-thou wayward teen stru...        pos\n",
       "4  nicolas philibert observes life inside a one-r...        pos"
      ]
     },
     "execution_count": 2,
     "metadata": {},
     "output_type": "execute_result"
    }
   ],
   "source": [
    "# Reading the training data set\n",
    "movie_reviews = pd.read_csv(\"train_file_kaggle.csv\")\n",
    "print(movie_reviews.shape)\n",
    "movie_reviews.head()"
   ]
  },
  {
   "cell_type": "markdown",
   "id": "5d61028e",
   "metadata": {},
   "source": [
    "## Tokenization and Stopwords removal"
   ]
  },
  {
   "cell_type": "code",
   "execution_count": 3,
   "id": "ff1ad5b9",
   "metadata": {},
   "outputs": [],
   "source": [
    "# Tokenization of text\n",
    "tokenizer = ToktokTokenizer()\n",
    "\n",
    "# Setting English stopwords \n",
    "stopword_list = nltk.corpus.stopwords.words('english')"
   ]
  },
  {
   "cell_type": "code",
   "execution_count": 4,
   "id": "2c3260ae",
   "metadata": {},
   "outputs": [
    {
     "name": "stdout",
     "output_type": "stream",
     "text": [
      "{'over', 'about', 'isn', 'most', 'being', 'which', 'they', 'after', 'some', 'is', 'on', 'with', 'you', 'by', 'hasn', 'any', 'her', \"you're\", 'too', \"couldn't\", 'above', 'very', \"wouldn't\", 'me', 'few', 'doing', 'yourself', 'does', 'don', 'yourselves', 'all', 'but', 'and', 'before', 's', 'd', 'aren', 'won', 'off', \"that'll\", 'were', 'them', \"hadn't\", 'than', 'because', 'between', \"hasn't\", \"don't\", 'those', \"it's\", 'each', 'same', 'only', 'ours', 'during', 'such', 'can', \"haven't\", 'no', 'was', \"shouldn't\", 'herself', 'shan', 'where', 'the', 'mustn', 'it', \"isn't\", 'your', 'their', 'who', 'whom', 're', 'needn', 'there', 'out', 'an', 'theirs', 'under', 'did', 'up', 'hers', 'nor', 'down', 'into', 'this', 'against', \"you'd\", \"she's\", 'not', 'll', 'further', 't', 'both', 'been', 'have', 'himself', 'that', 'didn', 'we', \"shan't\", 'wasn', 'wouldn', 'from', 'his', 'couldn', 'its', 'if', 'these', 'own', 'myself', 'a', 'again', 'more', 'hadn', 'haven', \"needn't\", 'once', 'm', 'other', 'shouldn', 'to', 'here', 'him', \"aren't\", \"you'll\", 'yours', 'had', 'when', 'so', 'ourselves', 'as', 'how', \"weren't\", 'are', 'just', 'ain', \"won't\", 'themselves', 've', \"doesn't\", 'am', 'having', 'now', \"wasn't\", 'through', 'at', \"didn't\", 'do', 'has', 'mightn', 'in', 'should', \"mustn't\", 'she', 'while', 'weren', 'below', 'be', 'will', 'for', 'y', 'why', 'what', 'or', 'until', 'my', 'i', 'then', \"you've\", \"should've\", 'doesn', 'ma', 'of', \"mightn't\", 'itself', 'o', 'he', 'our'}\n"
     ]
    }
   ],
   "source": [
    "# Set stopwords to english\n",
    "stop = set(stopwords.words('english'))\n",
    "print(stop)\n",
    "\n",
    "# Removing the stopwords\n",
    "def remove_stopwords(text, is_lower_case=False):\n",
    "    tokens = tokenizer.tokenize(text)\n",
    "    tokens = [token.strip() for token in tokens]\n",
    "    if is_lower_case:\n",
    "        filtered_tokens = [token for token in tokens if token not in stopword_list]\n",
    "    else:\n",
    "        filtered_tokens = [token for token in tokens if token.lower() not in stopword_list]\n",
    "    filtered_text = ' '.join(filtered_tokens)\n",
    "    return filtered_text\n",
    "\n",
    "# Apply function on reviews columns in the dataframe\n",
    "movie_reviews['Reviews'] = movie_reviews['Reviews'].apply(remove_stopwords)"
   ]
  },
  {
   "cell_type": "markdown",
   "id": "789d5814",
   "metadata": {},
   "source": [
    "## Stemming"
   ]
  },
  {
   "cell_type": "code",
   "execution_count": 5,
   "id": "0c06b4de",
   "metadata": {},
   "outputs": [],
   "source": [
    "# Stemming the text\n",
    "def simple_stemmer(text):\n",
    "    ps = nltk.porter.PorterStemmer()\n",
    "    text = ' '.join([ps.stem(word) for word in text.split()])\n",
    "    return text\n",
    "\n",
    "# Aplly function to the review column\n",
    "movie_reviews['Reviews'] = movie_reviews['Reviews'].apply(simple_stemmer)"
   ]
  },
  {
   "cell_type": "markdown",
   "id": "ba85b83b",
   "metadata": {},
   "source": [
    "## Lemmatization"
   ]
  },
  {
   "cell_type": "code",
   "execution_count": 6,
   "id": "11fb3b64",
   "metadata": {},
   "outputs": [],
   "source": [
    "# Performing Lemmatization\n",
    "def simple_lemmatize(text):\n",
    "    wnl = nltk.WordNetLemmatizer()\n",
    "    text = ' '.join([wnl.lemmatize(word) for word in text.split()])\n",
    "    return text\n",
    "\n",
    "# Apply function to the review columns\n",
    "movie_reviews['Reviews'] = movie_reviews['Reviews'].apply(simple_lemmatize)"
   ]
  },
  {
   "cell_type": "code",
   "execution_count": 7,
   "id": "4f82b127",
   "metadata": {},
   "outputs": [
    {
     "data": {
      "text/html": [
       "<div>\n",
       "<style scoped>\n",
       "    .dataframe tbody tr th:only-of-type {\n",
       "        vertical-align: middle;\n",
       "    }\n",
       "\n",
       "    .dataframe tbody tr th {\n",
       "        vertical-align: top;\n",
       "    }\n",
       "\n",
       "    .dataframe thead th {\n",
       "        text-align: right;\n",
       "    }\n",
       "</style>\n",
       "<table border=\"1\" class=\"dataframe\">\n",
       "  <thead>\n",
       "    <tr style=\"text-align: right;\">\n",
       "      <th></th>\n",
       "      <th>Reviews</th>\n",
       "      <th>Sentiments</th>\n",
       "    </tr>\n",
       "  </thead>\n",
       "  <tbody>\n",
       "    <tr>\n",
       "      <th>0</th>\n",
       "      <td>bittersweet comedy/drama full life , hand gest...</td>\n",
       "      <td>pos</td>\n",
       "    </tr>\n",
       "    <tr>\n",
       "      <th>1</th>\n",
       "      <td>pay attent follow stori , ' interest . movi we...</td>\n",
       "      <td>pos</td>\n",
       "    </tr>\n",
       "    <tr>\n",
       "      <th>2</th>\n",
       "      <td>overal , interest documentari -- imaxi .</td>\n",
       "      <td>pos</td>\n",
       "    </tr>\n",
       "    <tr>\n",
       "      <th>3</th>\n",
       "      <td>precoci smarter-than-th wayward teen struggl r...</td>\n",
       "      <td>pos</td>\n",
       "    </tr>\n",
       "    <tr>\n",
       "      <th>4</th>\n",
       "      <td>nicola philibert observ life insid one-room sc...</td>\n",
       "      <td>pos</td>\n",
       "    </tr>\n",
       "  </tbody>\n",
       "</table>\n",
       "</div>"
      ],
      "text/plain": [
       "                                             Reviews Sentiments\n",
       "0  bittersweet comedy/drama full life , hand gest...        pos\n",
       "1  pay attent follow stori , ' interest . movi we...        pos\n",
       "2           overal , interest documentari -- imaxi .        pos\n",
       "3  precoci smarter-than-th wayward teen struggl r...        pos\n",
       "4  nicola philibert observ life insid one-room sc...        pos"
      ]
     },
     "execution_count": 7,
     "metadata": {},
     "output_type": "execute_result"
    }
   ],
   "source": [
    "# Reviewing the dataset after using NLP techniques to pre-process it \n",
    "movie_reviews.head()"
   ]
  },
  {
   "cell_type": "markdown",
   "id": "f5650569",
   "metadata": {},
   "source": [
    "## Tf-idf Preparation"
   ]
  },
  {
   "cell_type": "code",
   "execution_count": 8,
   "id": "a48f1d55",
   "metadata": {},
   "outputs": [
    {
     "name": "stdout",
     "output_type": "stream",
     "text": [
      "(5970, 2)\n",
      "(1493, 2)\n"
     ]
    }
   ],
   "source": [
    "# Split the data into training and validation dataset.\n",
    "train, val = train_test_split(movie_reviews, test_size=0.2, random_state=123)\n",
    "print(train.shape)\n",
    "print(val.shape)"
   ]
  },
  {
   "cell_type": "code",
   "execution_count": 9,
   "id": "6b3f6909",
   "metadata": {},
   "outputs": [
    {
     "name": "stdout",
     "output_type": "stream",
     "text": [
      "Training reviews:  (5970, 500)\n",
      "Validation reviews:  (1493, 500)\n"
     ]
    }
   ],
   "source": [
    "train_reviews = list(train['Reviews'])\n",
    "val_reviews = list(val['Reviews'])\n",
    "\n",
    "# Tf-idf Vectorizer\n",
    "tv = TfidfVectorizer(max_features=500, use_idf=True, ngram_range=(1,2))\n",
    "tv.fit(train_reviews)\n",
    "\n",
    "# Transform Training reviews\n",
    "tv_train_reviews = tv.fit_transform(train_reviews)\n",
    "\n",
    "# Transform Validation reviews\n",
    "tv_val_reviews = tv.transform(val_reviews)\n",
    "\n",
    "# Check the shape of the transform training and validation reviews\n",
    "print(\"Training reviews: \", tv_train_reviews.shape)\n",
    "print(\"Validation reviews: \", tv_val_reviews.shape)"
   ]
  },
  {
   "cell_type": "code",
   "execution_count": 10,
   "id": "359e49a5",
   "metadata": {},
   "outputs": [
    {
     "name": "stdout",
     "output_type": "stream",
     "text": [
      "      Sentiments\n",
      "0              0\n",
      "1              0\n",
      "2              0\n",
      "3              1\n",
      "4              0\n",
      "...          ...\n",
      "5965           0\n",
      "5966           1\n",
      "5967           1\n",
      "5968           1\n",
      "5969           0\n",
      "\n",
      "[5970 rows x 1 columns]\n",
      "      Sentiments\n",
      "0              1\n",
      "1              1\n",
      "2              1\n",
      "3              1\n",
      "4              1\n",
      "...          ...\n",
      "1488           1\n",
      "1489           1\n",
      "1490           0\n",
      "1491           1\n",
      "1492           1\n",
      "\n",
      "[1493 rows x 1 columns]\n"
     ]
    }
   ],
   "source": [
    "# Splitting the sentiment data\n",
    "train_sentiments = train['Sentiments']\n",
    "val_sentiments = val['Sentiments']\n",
    "\n",
    "# Converting 'pos' and 'neg' classed into 0 and 1 in the training dataset output\n",
    "lr = preprocessing.LabelEncoder()\n",
    "lr.fit(train_sentiments)\n",
    "train_sentiments = lr.transform(train_sentiments)\n",
    "train_sentiments = pd.DataFrame(train_sentiments, columns=['Sentiments'])\n",
    "\n",
    "# Converting 'pos' and 'neg' classed into 0 and 1 in the validation dataset output\n",
    "lr = preprocessing.LabelEncoder()\n",
    "lr.fit(val_sentiments)\n",
    "val_sentiments = lr.transform(val_sentiments)\n",
    "val_sentiments = pd.DataFrame(val_sentiments, columns=['Sentiments'])\n",
    "\n",
    "print(train_sentiments)\n",
    "print(val_sentiments)"
   ]
  },
  {
   "cell_type": "markdown",
   "id": "287db8b7",
   "metadata": {},
   "source": [
    "# Task 2:- Build a conventional supervised machine-learning model"
   ]
  },
  {
   "cell_type": "markdown",
   "id": "d8f2184b",
   "metadata": {},
   "source": [
    "#### Training different classification models on the training data set and testing its performance \n",
    "- Logistic regression model\n",
    "- Decision tree model\n",
    "- kNN model\n",
    "- Random forest classifier model"
   ]
  },
  {
   "cell_type": "code",
   "execution_count": 11,
   "id": "2fab55da",
   "metadata": {},
   "outputs": [
    {
     "name": "stdout",
     "output_type": "stream",
     "text": [
      "[LibLinear]Fitting 5 folds for each of 50 candidates, totalling 250 fits\n"
     ]
    },
    {
     "data": {
      "text/html": [
       "<div>\n",
       "<style scoped>\n",
       "    .dataframe tbody tr th:only-of-type {\n",
       "        vertical-align: middle;\n",
       "    }\n",
       "\n",
       "    .dataframe tbody tr th {\n",
       "        vertical-align: top;\n",
       "    }\n",
       "\n",
       "    .dataframe thead th {\n",
       "        text-align: right;\n",
       "    }\n",
       "</style>\n",
       "<table border=\"1\" class=\"dataframe\">\n",
       "  <thead>\n",
       "    <tr style=\"text-align: right;\">\n",
       "      <th></th>\n",
       "      <th>Training Accuracy</th>\n",
       "      <th>Validation Accuracy</th>\n",
       "    </tr>\n",
       "  </thead>\n",
       "  <tbody>\n",
       "    <tr>\n",
       "      <th>Logistic</th>\n",
       "      <td>0.742546</td>\n",
       "      <td>0.699933</td>\n",
       "    </tr>\n",
       "    <tr>\n",
       "      <th>Tree</th>\n",
       "      <td>0.728643</td>\n",
       "      <td>0.588747</td>\n",
       "    </tr>\n",
       "    <tr>\n",
       "      <th>KNN</th>\n",
       "      <td>0.859799</td>\n",
       "      <td>0.582719</td>\n",
       "    </tr>\n",
       "  </tbody>\n",
       "</table>\n",
       "</div>"
      ],
      "text/plain": [
       "          Training Accuracy  Validation Accuracy\n",
       "Logistic           0.742546             0.699933\n",
       "Tree               0.728643             0.588747\n",
       "KNN                0.859799             0.582719"
      ]
     },
     "execution_count": 11,
     "metadata": {},
     "output_type": "execute_result"
    }
   ],
   "source": [
    "# logistic regression model on the training dataset.\n",
    "log_reg_model = LogisticRegression(penalty='l1', solver='liblinear', max_iter=400, verbose=1, random_state=123)\n",
    "log_reg_model.fit(tv_train_reviews, train_sentiments)\n",
    "\n",
    "# Checking its performance accuracy score.\n",
    "log_train_acc = log_reg_model.score(tv_train_reviews, train_sentiments)\n",
    "log_val_acc = log_reg_model.score(tv_val_reviews, val_sentiments)\n",
    "\n",
    "# Decision tree classification model on the training dataset.\n",
    "tree_clf_best = DecisionTreeClassifier(random_state=123, max_depth=50)\n",
    "tree_clf_best.fit(tv_train_reviews, train_sentiments)\n",
    "\n",
    "# Check its performance accuracy score.\n",
    "tree_train_acc = tree_clf_best.score(tv_train_reviews, train_sentiments)\n",
    "tree_val_acc = tree_clf_best.score(tv_val_reviews, val_sentiments)\n",
    "\n",
    "# kNN classification model on the training dataset.\n",
    "knn_clf = KNeighborsClassifier()\n",
    "param_grid = {'n_neighbors': np.arange(1, 51)}\n",
    "\n",
    "# Defining paramter range\n",
    "grid = GridSearchCV(knn_clf, param_grid, cv=5, scoring='accuracy', return_train_score=True, verbose=1)\n",
    "grid_search = grid.fit(tv_train_reviews, train_sentiments)\n",
    "\n",
    "# Inserting the best parameter and re-fitting the model\n",
    "knn_clf_best = KNeighborsClassifier(n_neighbors=grid_search.best_params_['n_neighbors'])\n",
    "knn_clf_best.fit(tv_train_reviews, train_sentiments)\n",
    "\n",
    "# Check its performance accuracy score\n",
    "knn_train_acc = knn_clf_best.score(tv_train_reviews, train_sentiments)\n",
    "knn_val_acc = knn_clf_best.score(tv_val_reviews, val_sentiments)\n",
    "\n",
    "# Creating dataframe \n",
    "pd.DataFrame([[log_train_acc, log_val_acc], [tree_train_acc, tree_val_acc], [knn_train_acc, knn_val_acc]],\n",
    "              columns=['Training Accuracy', 'Validation Accuracy'], \n",
    "             index= ['Logistic', 'Tree', 'KNN'])"
   ]
  },
  {
   "cell_type": "markdown",
   "id": "69875b12",
   "metadata": {},
   "source": [
    "### Observation:-\n",
    "- **We see that the training and validation accuracies for the three models is not upto expectation for performance.**\n",
    "- **If the model is showing good on training accuracy, there seems to be overfitting as its validation accuracy will be low.**"
   ]
  },
  {
   "cell_type": "code",
   "execution_count": 12,
   "id": "64d1660a",
   "metadata": {},
   "outputs": [
    {
     "data": {
      "text/html": [
       "<style>#sk-container-id-1 {color: black;background-color: white;}#sk-container-id-1 pre{padding: 0;}#sk-container-id-1 div.sk-toggleable {background-color: white;}#sk-container-id-1 label.sk-toggleable__label {cursor: pointer;display: block;width: 100%;margin-bottom: 0;padding: 0.3em;box-sizing: border-box;text-align: center;}#sk-container-id-1 label.sk-toggleable__label-arrow:before {content: \"▸\";float: left;margin-right: 0.25em;color: #696969;}#sk-container-id-1 label.sk-toggleable__label-arrow:hover:before {color: black;}#sk-container-id-1 div.sk-estimator:hover label.sk-toggleable__label-arrow:before {color: black;}#sk-container-id-1 div.sk-toggleable__content {max-height: 0;max-width: 0;overflow: hidden;text-align: left;background-color: #f0f8ff;}#sk-container-id-1 div.sk-toggleable__content pre {margin: 0.2em;color: black;border-radius: 0.25em;background-color: #f0f8ff;}#sk-container-id-1 input.sk-toggleable__control:checked~div.sk-toggleable__content {max-height: 200px;max-width: 100%;overflow: auto;}#sk-container-id-1 input.sk-toggleable__control:checked~label.sk-toggleable__label-arrow:before {content: \"▾\";}#sk-container-id-1 div.sk-estimator input.sk-toggleable__control:checked~label.sk-toggleable__label {background-color: #d4ebff;}#sk-container-id-1 div.sk-label input.sk-toggleable__control:checked~label.sk-toggleable__label {background-color: #d4ebff;}#sk-container-id-1 input.sk-hidden--visually {border: 0;clip: rect(1px 1px 1px 1px);clip: rect(1px, 1px, 1px, 1px);height: 1px;margin: -1px;overflow: hidden;padding: 0;position: absolute;width: 1px;}#sk-container-id-1 div.sk-estimator {font-family: monospace;background-color: #f0f8ff;border: 1px dotted black;border-radius: 0.25em;box-sizing: border-box;margin-bottom: 0.5em;}#sk-container-id-1 div.sk-estimator:hover {background-color: #d4ebff;}#sk-container-id-1 div.sk-parallel-item::after {content: \"\";width: 100%;border-bottom: 1px solid gray;flex-grow: 1;}#sk-container-id-1 div.sk-label:hover label.sk-toggleable__label {background-color: #d4ebff;}#sk-container-id-1 div.sk-serial::before {content: \"\";position: absolute;border-left: 1px solid gray;box-sizing: border-box;top: 0;bottom: 0;left: 50%;z-index: 0;}#sk-container-id-1 div.sk-serial {display: flex;flex-direction: column;align-items: center;background-color: white;padding-right: 0.2em;padding-left: 0.2em;position: relative;}#sk-container-id-1 div.sk-item {position: relative;z-index: 1;}#sk-container-id-1 div.sk-parallel {display: flex;align-items: stretch;justify-content: center;background-color: white;position: relative;}#sk-container-id-1 div.sk-item::before, #sk-container-id-1 div.sk-parallel-item::before {content: \"\";position: absolute;border-left: 1px solid gray;box-sizing: border-box;top: 0;bottom: 0;left: 50%;z-index: -1;}#sk-container-id-1 div.sk-parallel-item {display: flex;flex-direction: column;z-index: 1;position: relative;background-color: white;}#sk-container-id-1 div.sk-parallel-item:first-child::after {align-self: flex-end;width: 50%;}#sk-container-id-1 div.sk-parallel-item:last-child::after {align-self: flex-start;width: 50%;}#sk-container-id-1 div.sk-parallel-item:only-child::after {width: 0;}#sk-container-id-1 div.sk-dashed-wrapped {border: 1px dashed gray;margin: 0 0.4em 0.5em 0.4em;box-sizing: border-box;padding-bottom: 0.4em;background-color: white;}#sk-container-id-1 div.sk-label label {font-family: monospace;font-weight: bold;display: inline-block;line-height: 1.2em;}#sk-container-id-1 div.sk-label-container {text-align: center;}#sk-container-id-1 div.sk-container {/* jupyter's `normalize.less` sets `[hidden] { display: none; }` but bootstrap.min.css set `[hidden] { display: none !important; }` so we also need the `!important` here to be able to override the default hidden behavior on the sphinx rendered scikit-learn.org. See: https://github.com/scikit-learn/scikit-learn/issues/21755 */display: inline-block !important;position: relative;}#sk-container-id-1 div.sk-text-repr-fallback {display: none;}</style><div id=\"sk-container-id-1\" class=\"sk-top-container\"><div class=\"sk-text-repr-fallback\"><pre>RandomForestClassifier(class_weight=&#x27;balanced&#x27;, max_depth=20, n_estimators=200,\n",
       "                       random_state=123)</pre><b>In a Jupyter environment, please rerun this cell to show the HTML representation or trust the notebook. <br />On GitHub, the HTML representation is unable to render, please try loading this page with nbviewer.org.</b></div><div class=\"sk-container\" hidden><div class=\"sk-item\"><div class=\"sk-estimator sk-toggleable\"><input class=\"sk-toggleable__control sk-hidden--visually\" id=\"sk-estimator-id-1\" type=\"checkbox\" checked><label for=\"sk-estimator-id-1\" class=\"sk-toggleable__label sk-toggleable__label-arrow\">RandomForestClassifier</label><div class=\"sk-toggleable__content\"><pre>RandomForestClassifier(class_weight=&#x27;balanced&#x27;, max_depth=20, n_estimators=200,\n",
       "                       random_state=123)</pre></div></div></div></div></div>"
      ],
      "text/plain": [
       "RandomForestClassifier(class_weight='balanced', max_depth=20, n_estimators=200,\n",
       "                       random_state=123)"
      ]
     },
     "execution_count": 12,
     "metadata": {},
     "output_type": "execute_result"
    }
   ],
   "source": [
    "# Creating a random forest classifier and fitting it into the data.\n",
    "rf = RandomForestClassifier(n_estimators = 200, \n",
    "                            max_depth = 20, \n",
    "                            class_weight = 'balanced', \n",
    "                            random_state = 123)\n",
    "rf.fit(tv_train_reviews, train_sentiments)"
   ]
  },
  {
   "cell_type": "code",
   "execution_count": 13,
   "id": "e1dad266",
   "metadata": {},
   "outputs": [],
   "source": [
    "# Obtaining predictions on the training and validation datasets\n",
    "y_pred_train = rf.predict(tv_train_reviews)\n",
    "y_pred_val = rf.predict(tv_val_reviews)"
   ]
  },
  {
   "cell_type": "code",
   "execution_count": 14,
   "id": "65e543fa",
   "metadata": {},
   "outputs": [
    {
     "name": "stdout",
     "output_type": "stream",
     "text": [
      "\n",
      " Confusion matrix on the training dataset: \n",
      " [[2603  363]\n",
      " [ 720 2284]]\n",
      "\n",
      " Confusion matrix on the validation dataset: \n",
      " [[518 225]\n",
      " [287 463]]\n",
      "\n",
      " AUC of ROC on the training dataset: \n",
      " 0.8189662603155334\n",
      "\n",
      " AUC of ROC on the validation dataset: \n",
      " 0.6572534768954686\n"
     ]
    }
   ],
   "source": [
    "# Evaluating random forest model on the training and validation sets using the confusion metrics and AUC of ROC\n",
    "print(\"\\n Confusion matrix on the training dataset: \\n\", confusion_matrix(train_sentiments, y_pred_train))\n",
    "print(\"\\n Confusion matrix on the validation dataset: \\n\", confusion_matrix(val_sentiments, y_pred_val))\n",
    "print(\"\\n AUC of ROC on the training dataset: \\n\", roc_auc_score(train_sentiments, y_pred_train))\n",
    "print(\"\\n AUC of ROC on the validation dataset: \\n\", roc_auc_score(val_sentiments, y_pred_val))"
   ]
  },
  {
   "cell_type": "markdown",
   "id": "e5e1b3ac",
   "metadata": {},
   "source": [
    "### Observations:- \n",
    "- We see that among all the models, random forest classifier performs well on the dataset.\n",
    "- Further tuning hyperparameter and retraining the model."
   ]
  },
  {
   "cell_type": "code",
   "execution_count": 15,
   "id": "ada3b01d",
   "metadata": {},
   "outputs": [
    {
     "name": "stdout",
     "output_type": "stream",
     "text": [
      "Fitting 5 folds for each of 90 candidates, totalling 450 fits\n"
     ]
    },
    {
     "data": {
      "text/plain": [
       "{'max_depth': 8, 'n_estimators': 900}"
      ]
     },
     "execution_count": 15,
     "metadata": {},
     "output_type": "execute_result"
    }
   ],
   "source": [
    "# Defining an Random forest classifier\n",
    "rf_best = RandomForestClassifier(class_weight = 'balanced',\n",
    "                                random_state = 123)\n",
    "\n",
    "# Defining parameter range\n",
    "param_grid = {'n_estimators': np.arange(100, 1000, 100),\n",
    "             'max_depth': np.arange(1,11,1)}\n",
    "\n",
    "# Running grid search to find the best combination of hyperparameters.\n",
    "grid = GridSearchCV(rf_best, param_grid, cv=5, scoring='accuracy', return_train_score=True, verbose=1)\n",
    "grid_search = grid.fit(tv_train_reviews, train_sentiments)\n",
    "\n",
    "grid_search.best_params_"
   ]
  },
  {
   "cell_type": "code",
   "execution_count": 16,
   "id": "c66002fe",
   "metadata": {},
   "outputs": [
    {
     "name": "stdout",
     "output_type": "stream",
     "text": [
      "Accuracy on the training dataset:  0.7467336683417085\n",
      "Accuracy on the validation dataset:  0.6550569323509712\n"
     ]
    }
   ],
   "source": [
    "# Retrain the model with the best optimal values\n",
    "rf_best = RandomForestClassifier(n_estimators = grid_search.best_params_['n_estimators'],\n",
    "                                max_depth = grid_search.best_params_['max_depth'],\n",
    "                                class_weight = 'balanced',\n",
    "                                random_state= 123)\n",
    "\n",
    "rf_best.fit(tv_train_reviews, train_sentiments)\n",
    "\n",
    "# Finding the accuracies of the updated Random Forest model\n",
    "rf_train_acc = rf_best.score(tv_train_reviews, train_sentiments)\n",
    "rf_val_acc = rf_best.score(tv_val_reviews, val_sentiments)\n",
    "\n",
    "print(\"Accuracy on the training dataset: \", rf_train_acc)\n",
    "print(\"Accuracy on the validation dataset: \", rf_val_acc)"
   ]
  },
  {
   "cell_type": "code",
   "execution_count": 17,
   "id": "7fec2217",
   "metadata": {},
   "outputs": [
    {
     "name": "stdout",
     "output_type": "stream",
     "text": [
      "\n",
      " Confusion Matrix on the training dataset:\n",
      " [[2387  579]\n",
      " [ 933 2071]]\n",
      "\n",
      " Confusion Matrix on the validation dataset:\n",
      " [[520 223]\n",
      " [292 458]]\n",
      "\n",
      " ROC AUC on the training dataset:\n",
      " 0.747100853615723\n",
      "\n",
      " ROC AUC on the validation dataset:\n",
      " 0.6552660385823239\n"
     ]
    }
   ],
   "source": [
    "# Obtaining predictions on the training and validation dataset\n",
    "rf_pred_train = rf_best.predict(tv_train_reviews)\n",
    "rf_pred_val = rf_best.predict(tv_val_reviews)\n",
    "\n",
    "# Evaluating the Random forest classifier model on the training and validation dataset using confusion matrix and AUC of ROC\n",
    "print(\"\\n Confusion Matrix on the training dataset:\\n\", confusion_matrix(train_sentiments, rf_pred_train))\n",
    "print(\"\\n Confusion Matrix on the validation dataset:\\n\",confusion_matrix(val_sentiments, rf_pred_val))\n",
    "print(\"\\n ROC AUC on the training dataset:\\n\", roc_auc_score(train_sentiments, rf_pred_train))\n",
    "print(\"\\n ROC AUC on the validation dataset:\\n\", roc_auc_score(val_sentiments, rf_pred_val))"
   ]
  },
  {
   "cell_type": "markdown",
   "id": "5bd18623",
   "metadata": {},
   "source": [
    "# Task 3:- Build a deep learning model"
   ]
  },
  {
   "cell_type": "code",
   "execution_count": 18,
   "id": "590ad4bf",
   "metadata": {},
   "outputs": [],
   "source": [
    "# Converting the sparse matrix of a dataset obtained from Tf-idf Vectorization to a sparse tensor.\n",
    "# This is done as Keras runs on Tensorflow backend and a Keras model accepts a sparse tensor as input, not a sparse matrix\n",
    "def convert_sparse_matrix_to_sparse_tensor(X):\n",
    "    coo = X.tocoo()\n",
    "    indices = np.mat([coo.row, coo.col]).transpose()\n",
    "    return tf.SparseTensor(indices, coo.data, coo.shape)"
   ]
  },
  {
   "cell_type": "code",
   "execution_count": 19,
   "id": "a84a2a03",
   "metadata": {},
   "outputs": [],
   "source": [
    "# Converting sparse matrix to sparse tensor to submit as input to the Keras model\n",
    "# Sparse reordering is done because tensorflow accepts input in row-major format.\n",
    "\n",
    "# For the training dataset\n",
    "tv_train_reviews_nn = tf.sparse.reorder(convert_sparse_matrix_to_sparse_tensor(tv_train_reviews))\n",
    "train_sentiments_nn = np.asarray(train_sentiments)\n",
    "\n",
    "# For the validation dataset\n",
    "tv_val_reviews_nn = tf.sparse.reorder(convert_sparse_matrix_to_sparse_tensor(tv_val_reviews))\n",
    "val_sentiments_nn = np.asarray(val_sentiments)"
   ]
  },
  {
   "cell_type": "code",
   "execution_count": 20,
   "id": "29952417",
   "metadata": {},
   "outputs": [],
   "source": [
    "# Defining a fully connected feedforward neural network\n",
    "def create_nn(activation_function = 'relu',\n",
    "             hidden1_neurons = 256):\n",
    "    \n",
    "    # keras.Input is the input layer of the neural network\n",
    "    input = keras.Input(shape = (500, ), sparse=True, name='Tfidf_maxfeatures')\n",
    "    \n",
    "    # The first hidden layer has 256 nodes and takes the previous layer (input layer) as input as mentioned below\n",
    "    hidden1 = layers.Dense(hidden1_neurons,\n",
    "                          activation = activation_function)(input)\n",
    "    \n",
    "    # The second hidden layer has 256 nodes and takes the previous layer (first hidden layer) as input as mentioned below\n",
    "    hidden2 = layers.Dense(64, \n",
    "                          activation = activation_function)(hidden1)\n",
    "    \n",
    "    # The output layer has 1 node and takes the previous layer (second hidden layer) as input as mentioned below\n",
    "    output = layers.Dense(1, \n",
    "                          activation = 'sigmoid')(hidden2)\n",
    "    \n",
    "    return keras.Model(input, output)"
   ]
  },
  {
   "cell_type": "code",
   "execution_count": 21,
   "id": "d87f9d20",
   "metadata": {},
   "outputs": [
    {
     "name": "stdout",
     "output_type": "stream",
     "text": [
      "Model: \"model\"\n",
      "_________________________________________________________________\n",
      " Layer (type)                Output Shape              Param #   \n",
      "=================================================================\n",
      " Tfidf_maxfeatures (InputLay  [(None, 500)]            0         \n",
      " er)                                                             \n",
      "                                                                 \n",
      " dense (Dense)               (None, 256)               128256    \n",
      "                                                                 \n",
      " dense_1 (Dense)             (None, 64)                16448     \n",
      "                                                                 \n",
      " dense_2 (Dense)             (None, 1)                 65        \n",
      "                                                                 \n",
      "=================================================================\n",
      "Total params: 144,769\n",
      "Trainable params: 144,769\n",
      "Non-trainable params: 0\n",
      "_________________________________________________________________\n"
     ]
    }
   ],
   "source": [
    "nn1 = create_nn()\n",
    "\n",
    "# Compile the model using learning_rate = 0.01\n",
    "learning_rate_value = 0.01\n",
    "nn1.compile(loss = 'binary_crossentropy',\n",
    "           metrics = ['accuracy'],\n",
    "           optimizer = RMSprop(learning_rate = learning_rate_value))\n",
    "\n",
    "nn1.summary()"
   ]
  },
  {
   "cell_type": "code",
   "execution_count": 22,
   "id": "0ffa4167",
   "metadata": {},
   "outputs": [
    {
     "name": "stdout",
     "output_type": "stream",
     "text": [
      "Epoch 1/10\n",
      "187/187 [==============================] - 1s 4ms/step - loss: 0.6228 - accuracy: 0.6501 - val_loss: 0.5887 - val_accuracy: 0.7093\n",
      "Epoch 2/10\n",
      "187/187 [==============================] - 1s 3ms/step - loss: 0.5343 - accuracy: 0.7280 - val_loss: 0.6362 - val_accuracy: 0.6912\n",
      "Epoch 3/10\n",
      "187/187 [==============================] - 1s 3ms/step - loss: 0.4743 - accuracy: 0.7672 - val_loss: 0.6327 - val_accuracy: 0.6973\n",
      "Epoch 4/10\n",
      "187/187 [==============================] - 1s 3ms/step - loss: 0.3744 - accuracy: 0.8291 - val_loss: 0.7183 - val_accuracy: 0.6966\n",
      "Epoch 5/10\n",
      "187/187 [==============================] - 1s 3ms/step - loss: 0.2545 - accuracy: 0.8851 - val_loss: 0.9025 - val_accuracy: 0.6845\n",
      "Epoch 6/10\n",
      "187/187 [==============================] - 1s 3ms/step - loss: 0.1497 - accuracy: 0.9353 - val_loss: 1.3176 - val_accuracy: 0.6604\n",
      "Epoch 7/10\n",
      "187/187 [==============================] - 1s 4ms/step - loss: 0.0922 - accuracy: 0.9573 - val_loss: 1.5998 - val_accuracy: 0.6410\n",
      "Epoch 8/10\n",
      "187/187 [==============================] - 1s 4ms/step - loss: 0.0721 - accuracy: 0.9673 - val_loss: 1.6950 - val_accuracy: 0.6571\n",
      "Epoch 9/10\n",
      "187/187 [==============================] - 1s 4ms/step - loss: 0.0686 - accuracy: 0.9693 - val_loss: 1.9899 - val_accuracy: 0.6504\n",
      "Epoch 10/10\n",
      "187/187 [==============================] - 1s 4ms/step - loss: 0.0598 - accuracy: 0.9740 - val_loss: 2.3460 - val_accuracy: 0.6752\n"
     ]
    }
   ],
   "source": [
    "# Training the neural network model on the dataset\n",
    "nn1_history = nn1.fit(tv_train_reviews_nn, train_sentiments_nn, validation_data = (tv_val_reviews_nn, val_sentiments_nn), epochs=10)"
   ]
  },
  {
   "cell_type": "code",
   "execution_count": 23,
   "id": "3bf686f7",
   "metadata": {},
   "outputs": [
    {
     "data": {
      "text/html": [
       "<div>\n",
       "<style scoped>\n",
       "    .dataframe tbody tr th:only-of-type {\n",
       "        vertical-align: middle;\n",
       "    }\n",
       "\n",
       "    .dataframe tbody tr th {\n",
       "        vertical-align: top;\n",
       "    }\n",
       "\n",
       "    .dataframe thead th {\n",
       "        text-align: right;\n",
       "    }\n",
       "</style>\n",
       "<table border=\"1\" class=\"dataframe\">\n",
       "  <thead>\n",
       "    <tr style=\"text-align: right;\">\n",
       "      <th></th>\n",
       "      <th>loss</th>\n",
       "      <th>accuracy</th>\n",
       "      <th>val_loss</th>\n",
       "      <th>val_accuracy</th>\n",
       "    </tr>\n",
       "    <tr>\n",
       "      <th>epochs</th>\n",
       "      <th></th>\n",
       "      <th></th>\n",
       "      <th></th>\n",
       "      <th></th>\n",
       "    </tr>\n",
       "  </thead>\n",
       "  <tbody>\n",
       "    <tr>\n",
       "      <th>1</th>\n",
       "      <td>0.622798</td>\n",
       "      <td>0.650084</td>\n",
       "      <td>0.588708</td>\n",
       "      <td>0.709310</td>\n",
       "    </tr>\n",
       "    <tr>\n",
       "      <th>2</th>\n",
       "      <td>0.534304</td>\n",
       "      <td>0.727973</td>\n",
       "      <td>0.636234</td>\n",
       "      <td>0.691226</td>\n",
       "    </tr>\n",
       "    <tr>\n",
       "      <th>3</th>\n",
       "      <td>0.474282</td>\n",
       "      <td>0.767169</td>\n",
       "      <td>0.632681</td>\n",
       "      <td>0.697254</td>\n",
       "    </tr>\n",
       "    <tr>\n",
       "      <th>4</th>\n",
       "      <td>0.374354</td>\n",
       "      <td>0.829146</td>\n",
       "      <td>0.718259</td>\n",
       "      <td>0.696584</td>\n",
       "    </tr>\n",
       "    <tr>\n",
       "      <th>5</th>\n",
       "      <td>0.254510</td>\n",
       "      <td>0.885092</td>\n",
       "      <td>0.902492</td>\n",
       "      <td>0.684528</td>\n",
       "    </tr>\n",
       "    <tr>\n",
       "      <th>6</th>\n",
       "      <td>0.149674</td>\n",
       "      <td>0.935343</td>\n",
       "      <td>1.317611</td>\n",
       "      <td>0.660415</td>\n",
       "    </tr>\n",
       "    <tr>\n",
       "      <th>7</th>\n",
       "      <td>0.092194</td>\n",
       "      <td>0.957286</td>\n",
       "      <td>1.599820</td>\n",
       "      <td>0.640991</td>\n",
       "    </tr>\n",
       "    <tr>\n",
       "      <th>8</th>\n",
       "      <td>0.072105</td>\n",
       "      <td>0.967337</td>\n",
       "      <td>1.694982</td>\n",
       "      <td>0.657066</td>\n",
       "    </tr>\n",
       "    <tr>\n",
       "      <th>9</th>\n",
       "      <td>0.068630</td>\n",
       "      <td>0.969347</td>\n",
       "      <td>1.989867</td>\n",
       "      <td>0.650368</td>\n",
       "    </tr>\n",
       "    <tr>\n",
       "      <th>10</th>\n",
       "      <td>0.059840</td>\n",
       "      <td>0.974037</td>\n",
       "      <td>2.346040</td>\n",
       "      <td>0.675151</td>\n",
       "    </tr>\n",
       "  </tbody>\n",
       "</table>\n",
       "</div>"
      ],
      "text/plain": [
       "            loss  accuracy  val_loss  val_accuracy\n",
       "epochs                                            \n",
       "1       0.622798  0.650084  0.588708      0.709310\n",
       "2       0.534304  0.727973  0.636234      0.691226\n",
       "3       0.474282  0.767169  0.632681      0.697254\n",
       "4       0.374354  0.829146  0.718259      0.696584\n",
       "5       0.254510  0.885092  0.902492      0.684528\n",
       "6       0.149674  0.935343  1.317611      0.660415\n",
       "7       0.092194  0.957286  1.599820      0.640991\n",
       "8       0.072105  0.967337  1.694982      0.657066\n",
       "9       0.068630  0.969347  1.989867      0.650368\n",
       "10      0.059840  0.974037  2.346040      0.675151"
      ]
     },
     "execution_count": 23,
     "metadata": {},
     "output_type": "execute_result"
    }
   ],
   "source": [
    "# Convert the neural network history object into a dataframe to view its specifies\n",
    "hist = pd.DataFrame(nn1_history.history)\n",
    "hist['epochs'] = nn1_history.epoch\n",
    "hist['epochs'] = hist['epochs'].apply(lambda x: x+1)\n",
    "hist.set_index('epochs')"
   ]
  },
  {
   "cell_type": "code",
   "execution_count": 24,
   "id": "9e71c66d",
   "metadata": {},
   "outputs": [
    {
     "data": {
      "image/png": "[encoded data removed]",
      "text/plain": [
       "<Figure size 864x288 with 1 Axes>"
      ]
     },
     "metadata": {
      "needs_background": "light"
     },
     "output_type": "display_data"
    }
   ],
   "source": [
    "# View the training and validation accuracy as a function of epoch\n",
    "plt.figure(figsize=(12, 4))\n",
    "\n",
    "sns.lineplot(data = hist, x ='epochs', y = 'accuracy', color = 'red', label = 'Training')\n",
    "sns.lineplot(data = hist, x = 'epochs', y = 'val_accuracy', color = 'blue', label = 'Validation')\n",
    "plt.xlabel('Epochs')\n",
    "plt.ylabel('Accuracy')\n",
    "plt.title('Accuracy as a function of Epoch')\n",
    "plt.show()"
   ]
  },
  {
   "cell_type": "code",
   "execution_count": 25,
   "id": "afbb0659",
   "metadata": {},
   "outputs": [
    {
     "name": "stdout",
     "output_type": "stream",
     "text": [
      "47/47 [==============================] - 0s 2ms/step - loss: 2.3460 - accuracy: 0.6752\n",
      "The loss value of the model on the validation data set is 2.3460397720336914\n",
      "The accuracy score of the model on the validation data set is 0.6751506924629211\n"
     ]
    }
   ],
   "source": [
    "# Compute the final accuracy of the model on the validation data set\n",
    "performance_test = nn1.evaluate(tv_val_reviews_nn, val_sentiments_nn)\n",
    "\n",
    "print(\"The loss value of the model on the validation data set is {}\".format(performance_test[0]))\n",
    "print(\"The accuracy score of the model on the validation data set is {}\".format(performance_test[1]))"
   ]
  },
  {
   "cell_type": "code",
   "execution_count": 26,
   "id": "91ae2257",
   "metadata": {},
   "outputs": [
    {
     "name": "stdout",
     "output_type": "stream",
     "text": [
      "\n",
      " Activation function = sigmoidhidden1 Neurons = 128 - START \n",
      "\n",
      "Model: \"model_1\"\n",
      "_________________________________________________________________\n",
      " Layer (type)                Output Shape              Param #   \n",
      "=================================================================\n",
      " Tfidf_maxfeatures (InputLay  [(None, 500)]            0         \n",
      " er)                                                             \n",
      "                                                                 \n",
      " dense_3 (Dense)             (None, 128)               64128     \n",
      "                                                                 \n",
      " dense_4 (Dense)             (None, 64)                8256      \n",
      "                                                                 \n",
      " dense_5 (Dense)             (None, 1)                 65        \n",
      "                                                                 \n",
      "=================================================================\n",
      "Total params: 72,449\n",
      "Trainable params: 72,449\n",
      "Non-trainable params: 0\n",
      "_________________________________________________________________\n",
      "\n",
      "\n",
      "Epoch 1/10\n",
      "187/187 [==============================] - 2s 4ms/step - loss: 0.7148 - accuracy: 0.4908 - val_loss: 0.6934 - val_accuracy: 0.5023\n",
      "Epoch 2/10\n",
      "187/187 [==============================] - 1s 3ms/step - loss: 0.6973 - accuracy: 0.4978 - val_loss: 0.7219 - val_accuracy: 0.5023\n",
      "Epoch 3/10\n",
      "187/187 [==============================] - 1s 3ms/step - loss: 0.6965 - accuracy: 0.5084 - val_loss: 0.6926 - val_accuracy: 0.4977\n",
      "Epoch 4/10\n",
      "187/187 [==============================] - 1s 3ms/step - loss: 0.6967 - accuracy: 0.5144 - val_loss: 0.6900 - val_accuracy: 0.5492\n",
      "Epoch 5/10\n",
      "187/187 [==============================] - 1s 3ms/step - loss: 0.6889 - accuracy: 0.5407 - val_loss: 0.7182 - val_accuracy: 0.5070\n",
      "Epoch 6/10\n",
      "187/187 [==============================] - 1s 4ms/step - loss: 0.6351 - accuracy: 0.6367 - val_loss: 0.5796 - val_accuracy: 0.6946\n",
      "Epoch 7/10\n",
      "187/187 [==============================] - 1s 4ms/step - loss: 0.5814 - accuracy: 0.6933 - val_loss: 0.5704 - val_accuracy: 0.6892\n",
      "Epoch 8/10\n",
      "187/187 [==============================] - 1s 3ms/step - loss: 0.5584 - accuracy: 0.7114 - val_loss: 0.7787 - val_accuracy: 0.5941\n",
      "Epoch 9/10\n",
      "187/187 [==============================] - 1s 3ms/step - loss: 0.5501 - accuracy: 0.7168 - val_loss: 0.6341 - val_accuracy: 0.6705\n",
      "Epoch 10/10\n",
      "187/187 [==============================] - 1s 3ms/step - loss: 0.5432 - accuracy: 0.7246 - val_loss: 0.5760 - val_accuracy: 0.6946\n",
      "\n",
      " Activation function = sigmoidhidden1 Neurons = 128 - END \n",
      "\n",
      "\n",
      " Activation function = sigmoidhidden1 Neurons = 256 - START \n",
      "\n",
      "Model: \"model_2\"\n",
      "_________________________________________________________________\n",
      " Layer (type)                Output Shape              Param #   \n",
      "=================================================================\n",
      " Tfidf_maxfeatures (InputLay  [(None, 500)]            0         \n",
      " er)                                                             \n",
      "                                                                 \n",
      " dense_6 (Dense)             (None, 256)               128256    \n",
      "                                                                 \n",
      " dense_7 (Dense)             (None, 64)                16448     \n",
      "                                                                 \n",
      " dense_8 (Dense)             (None, 1)                 65        \n",
      "                                                                 \n",
      "=================================================================\n",
      "Total params: 144,769\n",
      "Trainable params: 144,769\n",
      "Non-trainable params: 0\n",
      "_________________________________________________________________\n",
      "\n",
      "\n",
      "Epoch 1/10\n",
      "187/187 [==============================] - 2s 5ms/step - loss: 0.7167 - accuracy: 0.4940 - val_loss: 0.6934 - val_accuracy: 0.5023\n",
      "Epoch 2/10\n",
      "187/187 [==============================] - 1s 4ms/step - loss: 0.6992 - accuracy: 0.4938 - val_loss: 0.7061 - val_accuracy: 0.5023\n",
      "Epoch 3/10\n",
      "187/187 [==============================] - 1s 4ms/step - loss: 0.6965 - accuracy: 0.5122 - val_loss: 0.6967 - val_accuracy: 0.5023\n",
      "Epoch 4/10\n",
      "187/187 [==============================] - 1s 4ms/step - loss: 0.6979 - accuracy: 0.4960 - val_loss: 0.7174 - val_accuracy: 0.5023\n",
      "Epoch 5/10\n",
      "187/187 [==============================] - 1s 4ms/step - loss: 0.6983 - accuracy: 0.5039 - val_loss: 0.6931 - val_accuracy: 0.5023\n",
      "Epoch 6/10\n",
      "187/187 [==============================] - 1s 4ms/step - loss: 0.6978 - accuracy: 0.5055 - val_loss: 0.6974 - val_accuracy: 0.5023\n",
      "Epoch 7/10\n",
      "187/187 [==============================] - 1s 4ms/step - loss: 0.6971 - accuracy: 0.5099 - val_loss: 0.6961 - val_accuracy: 0.4977\n",
      "Epoch 8/10\n",
      "187/187 [==============================] - 1s 4ms/step - loss: 0.6983 - accuracy: 0.5002 - val_loss: 0.6932 - val_accuracy: 0.5023\n",
      "Epoch 9/10\n",
      "187/187 [==============================] - 1s 4ms/step - loss: 0.6984 - accuracy: 0.4961 - val_loss: 0.6971 - val_accuracy: 0.4977\n",
      "Epoch 10/10\n",
      "187/187 [==============================] - 1s 4ms/step - loss: 0.6974 - accuracy: 0.4988 - val_loss: 0.6973 - val_accuracy: 0.5023\n",
      "\n",
      " Activation function = sigmoidhidden1 Neurons = 256 - END \n",
      "\n",
      "\n",
      " Activation function = reluhidden1 Neurons = 128 - START \n",
      "\n",
      "Model: \"model_3\"\n",
      "_________________________________________________________________\n",
      " Layer (type)                Output Shape              Param #   \n",
      "=================================================================\n",
      " Tfidf_maxfeatures (InputLay  [(None, 500)]            0         \n",
      " er)                                                             \n",
      "                                                                 \n",
      " dense_9 (Dense)             (None, 128)               64128     \n",
      "                                                                 \n",
      " dense_10 (Dense)            (None, 64)                8256      \n",
      "                                                                 \n",
      " dense_11 (Dense)            (None, 1)                 65        \n",
      "                                                                 \n",
      "=================================================================\n",
      "Total params: 72,449\n",
      "Trainable params: 72,449\n",
      "Non-trainable params: 0\n",
      "_________________________________________________________________\n",
      "\n",
      "\n",
      "Epoch 1/10\n",
      "187/187 [==============================] - 2s 4ms/step - loss: 0.6211 - accuracy: 0.6523 - val_loss: 0.5872 - val_accuracy: 0.6946\n",
      "Epoch 2/10\n",
      "187/187 [==============================] - 1s 3ms/step - loss: 0.5399 - accuracy: 0.7214 - val_loss: 0.6278 - val_accuracy: 0.6758\n",
      "Epoch 3/10\n",
      "187/187 [==============================] - 1s 3ms/step - loss: 0.4847 - accuracy: 0.7588 - val_loss: 0.6056 - val_accuracy: 0.6798\n",
      "Epoch 4/10\n",
      "187/187 [==============================] - 1s 3ms/step - loss: 0.4044 - accuracy: 0.8075 - val_loss: 0.6376 - val_accuracy: 0.6993\n",
      "Epoch 5/10\n",
      "187/187 [==============================] - 1s 3ms/step - loss: 0.2985 - accuracy: 0.8650 - val_loss: 0.8757 - val_accuracy: 0.6859\n",
      "Epoch 6/10\n",
      "187/187 [==============================] - 1s 4ms/step - loss: 0.1953 - accuracy: 0.9132 - val_loss: 1.0926 - val_accuracy: 0.6437\n",
      "Epoch 7/10\n",
      "187/187 [==============================] - 1s 3ms/step - loss: 0.1291 - accuracy: 0.9417 - val_loss: 1.5297 - val_accuracy: 0.6604\n",
      "Epoch 8/10\n",
      "187/187 [==============================] - 1s 3ms/step - loss: 0.0922 - accuracy: 0.9600 - val_loss: 1.7457 - val_accuracy: 0.6651\n",
      "Epoch 9/10\n",
      "187/187 [==============================] - 1s 3ms/step - loss: 0.0801 - accuracy: 0.9657 - val_loss: 2.0337 - val_accuracy: 0.6678\n",
      "Epoch 10/10\n",
      "187/187 [==============================] - 1s 3ms/step - loss: 0.0660 - accuracy: 0.9717 - val_loss: 2.2003 - val_accuracy: 0.6611\n",
      "\n",
      " Activation function = reluhidden1 Neurons = 128 - END \n",
      "\n",
      "\n",
      " Activation function = reluhidden1 Neurons = 256 - START \n",
      "\n",
      "Model: \"model_4\"\n",
      "_________________________________________________________________\n",
      " Layer (type)                Output Shape              Param #   \n",
      "=================================================================\n",
      " Tfidf_maxfeatures (InputLay  [(None, 500)]            0         \n",
      " er)                                                             \n",
      "                                                                 \n",
      " dense_12 (Dense)            (None, 256)               128256    \n"
     ]
    },
    {
     "name": "stdout",
     "output_type": "stream",
     "text": [
      "                                                                 \n",
      " dense_13 (Dense)            (None, 64)                16448     \n",
      "                                                                 \n",
      " dense_14 (Dense)            (None, 1)                 65        \n",
      "                                                                 \n",
      "=================================================================\n",
      "Total params: 144,769\n",
      "Trainable params: 144,769\n",
      "Non-trainable params: 0\n",
      "_________________________________________________________________\n",
      "\n",
      "\n",
      "Epoch 1/10\n",
      "187/187 [==============================] - 2s 5ms/step - loss: 0.6226 - accuracy: 0.6497 - val_loss: 0.5782 - val_accuracy: 0.6892\n",
      "Epoch 2/10\n",
      "187/187 [==============================] - 1s 4ms/step - loss: 0.5394 - accuracy: 0.7265 - val_loss: 0.5766 - val_accuracy: 0.6952\n",
      "Epoch 3/10\n",
      "187/187 [==============================] - 1s 4ms/step - loss: 0.4811 - accuracy: 0.7633 - val_loss: 0.5869 - val_accuracy: 0.7013\n",
      "Epoch 4/10\n",
      "187/187 [==============================] - 1s 4ms/step - loss: 0.3856 - accuracy: 0.8193 - val_loss: 0.6983 - val_accuracy: 0.6872\n",
      "Epoch 5/10\n",
      "187/187 [==============================] - 1s 4ms/step - loss: 0.2654 - accuracy: 0.8819 - val_loss: 0.8391 - val_accuracy: 0.6691\n",
      "Epoch 6/10\n",
      "187/187 [==============================] - 1s 4ms/step - loss: 0.1513 - accuracy: 0.9332 - val_loss: 1.2097 - val_accuracy: 0.6664\n",
      "Epoch 7/10\n",
      "187/187 [==============================] - 1s 4ms/step - loss: 0.0966 - accuracy: 0.9586 - val_loss: 1.6123 - val_accuracy: 0.6604\n",
      "Epoch 8/10\n",
      "187/187 [==============================] - 1s 4ms/step - loss: 0.0778 - accuracy: 0.9668 - val_loss: 1.6633 - val_accuracy: 0.6618\n",
      "Epoch 9/10\n",
      "187/187 [==============================] - 1s 4ms/step - loss: 0.0640 - accuracy: 0.9727 - val_loss: 1.9194 - val_accuracy: 0.6544\n",
      "Epoch 10/10\n",
      "187/187 [==============================] - 1s 4ms/step - loss: 0.0628 - accuracy: 0.9724 - val_loss: 1.7958 - val_accuracy: 0.6658\n",
      "\n",
      " Activation function = reluhidden1 Neurons = 256 - END \n",
      "\n"
     ]
    }
   ],
   "source": [
    "# Declare a range of activation functions and number of neurons in the first hidden layer to tune for\n",
    "activation_function_list = ['sigmoid', 'relu']\n",
    "hidden1_neuron_list = [128, 256]\n",
    "\n",
    "# Create and train a neural network model for each value of learning rate\n",
    "performance_df = pd.DataFrame(data = None)\n",
    "hist = [None] * 4\n",
    "indexcount = -1\n",
    "\n",
    "for current_activation_function in activation_function_list:\n",
    "    for current_hidden1_neuron in hidden1_neuron_list:\n",
    "        indexcount = indexcount + 1\n",
    "        \n",
    "        # Create a neural network model using the 'create_nn' function\n",
    "        nn = create_nn(activation_function = current_activation_function,\n",
    "                      hidden1_neurons = current_hidden1_neuron)\n",
    "        \n",
    "        nn.compile(loss = 'binary_crossentropy',\n",
    "                  metrics = ['accuracy'],\n",
    "                  optimizer = RMSprop(learning_rate = 0.01))\n",
    "        \n",
    "        # Capture the training history of the model\n",
    "        print(\"\\n Activation function = {}\".format(current_activation_function) + 'hidden1 Neurons = {} - START \\n'.format(current_hidden1_neuron))\n",
    "        nn.summary()\n",
    "        print('\\n')\n",
    "        nn_history = nn.fit(tv_train_reviews_nn, train_sentiments_nn, validation_data = (tv_val_reviews, val_sentiments_nn), epochs=10)\n",
    "        print(\"\\n Activation function = {}\".format(current_activation_function) + 'hidden1 Neurons = {} - END \\n'.format(current_hidden1_neuron))\n",
    "        \n",
    "        hist[indexcount] = pd.DataFrame(nn_history.history)\n",
    "        hist[indexcount]['epoch'] = nn_history.epoch\n",
    "        \n",
    "        tempdf = pd.DataFrame(index = [indexcount],\n",
    "                             data = {'Activation Function': current_activation_function,\n",
    "                                    'First Hidden neuron layer': current_hidden1_neuron,\n",
    "                                    'Train Accuracy': hist[indexcount]['accuracy'][9],\n",
    "                                    'Validation Accuracy': hist[indexcount]['val_accuracy'][9]})\n",
    "        \n",
    "        performance_df = pd.concat([performance_df, tempdf])"
   ]
  },
  {
   "cell_type": "code",
   "execution_count": 27,
   "id": "91d6b58c",
   "metadata": {},
   "outputs": [
    {
     "data": {
      "image/png": "[encoded data removed]",
      "text/plain": [
       "<Figure size 1008x360 with 1 Axes>"
      ]
     },
     "metadata": {
      "needs_background": "light"
     },
     "output_type": "display_data"
    }
   ],
   "source": [
    "# View the training accuracy as a function of epochs for different values of learning rate\n",
    "plt.figure(figsize=(14, 5))\n",
    "colorlist = ['purple', 'green', 'blue', 'red']\n",
    "\n",
    "indexcount = -1\n",
    "for current_activation_function in activation_function_list:\n",
    "    for current_hidden1_neuron in hidden1_neuron_list:\n",
    "        indexcount = indexcount + 1\n",
    "        sns.lineplot(data = hist[indexcount],\n",
    "                    x = 'epoch',\n",
    "                    y = 'accuracy',\n",
    "                    color = colorlist[indexcount],\n",
    "                    label = 'Activation Function' + str(current_activation_function) + ', hidden1_neurons = ' + str(current_hidden1_neuron))\n",
    "        \n",
    "plt.xlabel('Epoch')\n",
    "plt.ylabel('Training Accuracy')\n",
    "plt.title('Training Accuracy as a function of epochs for different values of Hyperparameters')\n",
    "plt.legend(bbox_to_anchor=(1.01, 1))\n",
    "plt.show()"
   ]
  },
  {
   "cell_type": "code",
   "execution_count": 28,
   "id": "19449d9c",
   "metadata": {},
   "outputs": [
    {
     "data": {
      "image/png": "[encoded data removed]",
      "text/plain": [
       "<Figure size 1008x360 with 1 Axes>"
      ]
     },
     "metadata": {
      "needs_background": "light"
     },
     "output_type": "display_data"
    }
   ],
   "source": [
    "# View the training accuracies as functions of epochs for different values of learning rate\n",
    "plt.figure(figsize = (14, 5))\n",
    "colorlist = ['purple', 'green', 'blue', 'red']\n",
    "\n",
    "indexcount = -1\n",
    "for current_activation_function in activation_function_list:\n",
    "    for current_hidden1_neuron in hidden1_neuron_list:\n",
    "        indexcount = indexcount + 1\n",
    "        sns.lineplot(data = hist[indexcount],\n",
    "                    x = 'epoch',\n",
    "                    y = 'val_accuracy',\n",
    "                    color = colorlist[indexcount],\n",
    "                    label = 'activation_function = ' + str(current_activation_function) + ', hidden1_neurons = ' + str(current_hidden1_neuron))\n",
    "\n",
    "plt.xlabel('Epoch')\n",
    "plt.ylabel('Validation Accuracy')\n",
    "plt.title('Validation Accuracy as a Function of Epoch for Different Values of Hyperparameters')\n",
    "plt.legend(bbox_to_anchor=(1.01, 1))\n",
    "plt.show()"
   ]
  },
  {
   "cell_type": "code",
   "execution_count": 29,
   "id": "919a7f68",
   "metadata": {},
   "outputs": [
    {
     "name": "stdout",
     "output_type": "stream",
     "text": [
      "Model: \"model_5\"\n",
      "_________________________________________________________________\n",
      " Layer (type)                Output Shape              Param #   \n",
      "=================================================================\n",
      " Tfidf_maxfeatures (InputLay  [(None, 500)]            0         \n",
      " er)                                                             \n",
      "                                                                 \n",
      " dense_15 (Dense)            (None, 128)               64128     \n",
      "                                                                 \n",
      " dense_16 (Dense)            (None, 64)                8256      \n",
      "                                                                 \n",
      " dense_17 (Dense)            (None, 1)                 65        \n",
      "                                                                 \n",
      "=================================================================\n",
      "Total params: 72,449\n",
      "Trainable params: 72,449\n",
      "Non-trainable params: 0\n",
      "_________________________________________________________________\n",
      "\n",
      "\n",
      "Epoch 1/10\n",
      "187/187 [==============================] - 2s 4ms/step - loss: 0.6216 - accuracy: 0.6489 - val_loss: 0.6038 - val_accuracy: 0.6939\n",
      "Epoch 2/10\n",
      "187/187 [==============================] - 1s 3ms/step - loss: 0.5378 - accuracy: 0.7260 - val_loss: 0.5821 - val_accuracy: 0.6885\n",
      "Epoch 3/10\n",
      "187/187 [==============================] - 1s 3ms/step - loss: 0.4869 - accuracy: 0.7558 - val_loss: 0.6310 - val_accuracy: 0.6885\n",
      "Epoch 4/10\n",
      "187/187 [==============================] - 1s 3ms/step - loss: 0.4056 - accuracy: 0.8057 - val_loss: 0.6270 - val_accuracy: 0.6832\n",
      "Epoch 5/10\n",
      "187/187 [==============================] - 1s 4ms/step - loss: 0.2992 - accuracy: 0.8675 - val_loss: 0.8348 - val_accuracy: 0.6664\n",
      "Epoch 6/10\n",
      "187/187 [==============================] - 1s 4ms/step - loss: 0.1978 - accuracy: 0.9116 - val_loss: 1.2429 - val_accuracy: 0.6551\n",
      "Epoch 7/10\n",
      "187/187 [==============================] - 1s 3ms/step - loss: 0.1301 - accuracy: 0.9437 - val_loss: 1.6580 - val_accuracy: 0.6510\n",
      "Epoch 8/10\n",
      "187/187 [==============================] - 1s 3ms/step - loss: 0.0930 - accuracy: 0.9591 - val_loss: 1.7752 - val_accuracy: 0.6457\n",
      "Epoch 9/10\n",
      "187/187 [==============================] - 1s 3ms/step - loss: 0.0736 - accuracy: 0.9672 - val_loss: 2.2042 - val_accuracy: 0.6397\n",
      "Epoch 10/10\n",
      "187/187 [==============================] - 1s 3ms/step - loss: 0.0643 - accuracy: 0.9720 - val_loss: 2.2393 - val_accuracy: 0.6450\n"
     ]
    }
   ],
   "source": [
    "# Retrain the model with the optimal combinations of hyperparameters and save its training history \n",
    "\n",
    "# Use the create_nn function to create a neural network with the optimal values of 'activation_function' and 'hidden1_neurons'.\n",
    "nn2 = create_nn(activation_function = 'relu', hidden1_neurons = 128)\n",
    "\n",
    "nn2.compile(loss = 'binary_crossentropy',\n",
    "           metrics = ['accuracy'],\n",
    "           optimizer = RMSprop(learning_rate = 0.01))\n",
    "\n",
    "# Capture the training history of the model\n",
    "nn2.summary()\n",
    "print('\\n')\n",
    "nn2_history = nn2.fit(tv_train_reviews_nn, train_sentiments_nn, validation_data = (tv_val_reviews_nn, val_sentiments_nn), epochs=10)\n",
    "hist = pd.DataFrame(nn2_history.history)\n",
    "hist['epoch'] = nn2_history.epoch"
   ]
  },
  {
   "cell_type": "code",
   "execution_count": 30,
   "id": "e779c3ab",
   "metadata": {},
   "outputs": [
    {
     "data": {
      "image/png": "[encoded data removed]",
      "text/plain": [
       "<Figure size 1008x288 with 1 Axes>"
      ]
     },
     "metadata": {
      "needs_background": "light"
     },
     "output_type": "display_data"
    }
   ],
   "source": [
    "# View the training and validation accuracies as functions of epoch\n",
    "plt.figure(figsize = (14, 4))\n",
    "\n",
    "sns.lineplot(data = hist, x = 'epoch', y = 'accuracy', color = 'red', label = 'Training')\n",
    "sns.lineplot(data = hist, x = 'epoch', y = 'val_accuracy', color = 'blue', label = 'Validation')\n",
    "plt.xlabel('Epoch')\n",
    "plt.ylabel('Accuracy')\n",
    "plt.title('Accuracy as a Function of Epoch')\n",
    "plt.show()"
   ]
  },
  {
   "cell_type": "code",
   "execution_count": 31,
   "id": "ca9f86df",
   "metadata": {},
   "outputs": [
    {
     "name": "stdout",
     "output_type": "stream",
     "text": [
      "47/47 [==============================] - 0s 2ms/step - loss: 2.2393 - accuracy: 0.6450\n",
      "The loss value of the model on the validation data is 2.239326238632202\n",
      "The accuracy of the model on the validation data is 0.6450100541114807\n"
     ]
    }
   ],
   "source": [
    "# Compute the final accuracy of the model on the validation data set using the 'evaluate()' method\n",
    "performance_test = nn2.evaluate(tv_val_reviews_nn, val_sentiments_nn)\n",
    "\n",
    "print('The loss value of the model on the validation data is {}'.format(performance_test[0]))\n",
    "print('The accuracy of the model on the validation data is {}'.format(performance_test[1]))"
   ]
  },
  {
   "cell_type": "markdown",
   "id": "e506f806",
   "metadata": {},
   "source": [
    "# Task 4:- Evaluate the models"
   ]
  },
  {
   "cell_type": "code",
   "execution_count": 32,
   "id": "191a606e",
   "metadata": {},
   "outputs": [
    {
     "data": {
      "text/html": [
       "<div>\n",
       "<style scoped>\n",
       "    .dataframe tbody tr th:only-of-type {\n",
       "        vertical-align: middle;\n",
       "    }\n",
       "\n",
       "    .dataframe tbody tr th {\n",
       "        vertical-align: top;\n",
       "    }\n",
       "\n",
       "    .dataframe thead th {\n",
       "        text-align: right;\n",
       "    }\n",
       "</style>\n",
       "<table border=\"1\" class=\"dataframe\">\n",
       "  <thead>\n",
       "    <tr style=\"text-align: right;\">\n",
       "      <th></th>\n",
       "      <th>Training</th>\n",
       "      <th>Validation</th>\n",
       "    </tr>\n",
       "  </thead>\n",
       "  <tbody>\n",
       "    <tr>\n",
       "      <th>Accuracy</th>\n",
       "      <td>0.818593</td>\n",
       "      <td>0.657066</td>\n",
       "    </tr>\n",
       "    <tr>\n",
       "      <th>Sensitivity</th>\n",
       "      <td>0.760320</td>\n",
       "      <td>0.617333</td>\n",
       "    </tr>\n",
       "    <tr>\n",
       "      <th>Specificity</th>\n",
       "      <td>0.877613</td>\n",
       "      <td>0.697174</td>\n",
       "    </tr>\n",
       "    <tr>\n",
       "      <th>ROC_AUC</th>\n",
       "      <td>0.818966</td>\n",
       "      <td>0.657253</td>\n",
       "    </tr>\n",
       "    <tr>\n",
       "      <th>F1 Score</th>\n",
       "      <td>0.808353</td>\n",
       "      <td>0.643950</td>\n",
       "    </tr>\n",
       "    <tr>\n",
       "      <th>Precision score</th>\n",
       "      <td>0.862864</td>\n",
       "      <td>0.672965</td>\n",
       "    </tr>\n",
       "  </tbody>\n",
       "</table>\n",
       "</div>"
      ],
      "text/plain": [
       "                 Training  Validation\n",
       "Accuracy         0.818593    0.657066\n",
       "Sensitivity      0.760320    0.617333\n",
       "Specificity      0.877613    0.697174\n",
       "ROC_AUC          0.818966    0.657253\n",
       "F1 Score         0.808353    0.643950\n",
       "Precision score  0.862864    0.672965"
      ]
     },
     "execution_count": 32,
     "metadata": {},
     "output_type": "execute_result"
    }
   ],
   "source": [
    "# Evaluate the Random Forest Model using standard classification metrics\n",
    "pd.DataFrame([[accuracy_score(train_sentiments, y_pred_train), accuracy_score(val_sentiments, y_pred_val)],\n",
    "              [recall_score(train_sentiments, y_pred_train,pos_label=1),recall_score(val_sentiments, y_pred_val,pos_label=1)],\n",
    "              [recall_score(train_sentiments, y_pred_train,pos_label=0),recall_score(val_sentiments, y_pred_val,pos_label=0)],\n",
    "              [roc_auc_score(train_sentiments, y_pred_train),roc_auc_score(val_sentiments, y_pred_val)],\n",
    "              [f1_score(train_sentiments, y_pred_train),f1_score(val_sentiments, y_pred_val)],\n",
    "              [precision_score(train_sentiments, y_pred_train),precision_score(val_sentiments, y_pred_val)]],\n",
    "              columns=['Training', 'Validation'], \n",
    "              index = ['Accuracy', 'Sensitivity', 'Specificity', 'ROC_AUC', 'F1 Score', 'Precision score'])"
   ]
  },
  {
   "cell_type": "code",
   "execution_count": 33,
   "id": "e5a977be",
   "metadata": {},
   "outputs": [
    {
     "data": {
      "image/png": "[encoded data removed]",
      "text/plain": [
       "<Figure size 864x360 with 1 Axes>"
      ]
     },
     "metadata": {
      "needs_background": "light"
     },
     "output_type": "display_data"
    }
   ],
   "source": [
    "# Plot ROC curve\n",
    "plt.figure(figsize=(12, 5))\n",
    "fpr,tpr,threshold = roc_curve(train_sentiments,y_pred_train)\n",
    "fpr1,tpr1,threshold1 = roc_curve(val_sentiments,y_pred_val)\n",
    "\n",
    "plt.plot(fpr,tpr, label = 'Training')\n",
    "plt.plot(fpr1,tpr1, label = 'Validation')\n",
    "plt.xlabel('False Positive Rate')\n",
    "plt.ylabel('True Positive Rate')\n",
    "plt.title('ROC Curve')\n",
    "plt.legend(bbox_to_anchor=(1.15,1),loc='upper right', ncol=1,frameon = True)\n",
    "plt.show()"
   ]
  },
  {
   "cell_type": "markdown",
   "id": "c511233d",
   "metadata": {},
   "source": [
    "# Kaggle submission"
   ]
  },
  {
   "cell_type": "code",
   "execution_count": 34,
   "id": "ead4da22",
   "metadata": {},
   "outputs": [
    {
     "name": "stdout",
     "output_type": "stream",
     "text": [
      "(3199, 1)\n"
     ]
    },
    {
     "data": {
      "text/html": [
       "<div>\n",
       "<style scoped>\n",
       "    .dataframe tbody tr th:only-of-type {\n",
       "        vertical-align: middle;\n",
       "    }\n",
       "\n",
       "    .dataframe tbody tr th {\n",
       "        vertical-align: top;\n",
       "    }\n",
       "\n",
       "    .dataframe thead th {\n",
       "        text-align: right;\n",
       "    }\n",
       "</style>\n",
       "<table border=\"1\" class=\"dataframe\">\n",
       "  <thead>\n",
       "    <tr style=\"text-align: right;\">\n",
       "      <th></th>\n",
       "      <th>Reviews</th>\n",
       "    </tr>\n",
       "  </thead>\n",
       "  <tbody>\n",
       "    <tr>\n",
       "      <th>0</th>\n",
       "      <td>the inhospitability of the land emphasizes the...</td>\n",
       "    </tr>\n",
       "    <tr>\n",
       "      <th>1</th>\n",
       "      <td>see it now , before the inevitable hollywood r...</td>\n",
       "    </tr>\n",
       "    <tr>\n",
       "      <th>2</th>\n",
       "      <td>the weight of the piece , the unerring profess...</td>\n",
       "    </tr>\n",
       "    <tr>\n",
       "      <th>3</th>\n",
       "      <td>the large-frame imax camera lends itself beaut...</td>\n",
       "    </tr>\n",
       "    <tr>\n",
       "      <th>4</th>\n",
       "      <td>what makes how i killed my father compelling ,...</td>\n",
       "    </tr>\n",
       "  </tbody>\n",
       "</table>\n",
       "</div>"
      ],
      "text/plain": [
       "                                             Reviews\n",
       "0  the inhospitability of the land emphasizes the...\n",
       "1  see it now , before the inevitable hollywood r...\n",
       "2  the weight of the piece , the unerring profess...\n",
       "3  the large-frame imax camera lends itself beaut...\n",
       "4  what makes how i killed my father compelling ,..."
      ]
     },
     "execution_count": 34,
     "metadata": {},
     "output_type": "execute_result"
    }
   ],
   "source": [
    "# Reading the test data set\n",
    "test = pd.read_csv('test_file_kaggle.csv')\n",
    "print(test.shape)\n",
    "test.head()"
   ]
  },
  {
   "cell_type": "code",
   "execution_count": 35,
   "id": "8f15a7be",
   "metadata": {},
   "outputs": [],
   "source": [
    "# Applying NLP techniques to pre-process the data set\n",
    "\n",
    "# Removing Stopwords and tokenization\n",
    "test['Reviews'] = test['Reviews'].apply(remove_stopwords)\n",
    "\n",
    "# Stemming\n",
    "test['Reviews'] = test['Reviews'].apply(simple_stemmer)\n",
    "\n",
    "# Lemmatization\n",
    "test['Reviews'] = test['Reviews'].apply(simple_lemmatize)"
   ]
  },
  {
   "cell_type": "code",
   "execution_count": 36,
   "id": "2108a5c4",
   "metadata": {},
   "outputs": [
    {
     "name": "stdout",
     "output_type": "stream",
     "text": [
      "Tfidf_val:  (3199, 500)\n"
     ]
    }
   ],
   "source": [
    "# Tf-idf Vectorizer\n",
    "test_reviews = list(test['Reviews'])\n",
    "\n",
    "# Transformed test reviews from the Tfidf Vectorizer used on the training dataset in task 1\n",
    "tv_test_reviews = tv.transform(test_reviews)\n",
    "\n",
    "print(\"Tfidf_val: \", tv_test_reviews.shape)"
   ]
  },
  {
   "cell_type": "code",
   "execution_count": 37,
   "id": "b7604430",
   "metadata": {},
   "outputs": [],
   "source": [
    "# Converting testing dataset tf idf vectorization into appripriate format.\n",
    "\n",
    "# For the testing dataset\n",
    "tv_test_reviews_nn = tf.sparse.reorder(convert_sparse_matrix_to_sparse_tensor(tv_test_reviews))"
   ]
  },
  {
   "cell_type": "code",
   "execution_count": 38,
   "id": "c7fa3054",
   "metadata": {},
   "outputs": [
    {
     "name": "stdout",
     "output_type": "stream",
     "text": [
      "100/100 [==============================] - 0s 2ms/step\n",
      "Prediction shape:  (3199, 1)\n"
     ]
    },
    {
     "data": {
      "text/plain": [
       "array([[9.5304549e-01],\n",
       "       [9.9120146e-01],\n",
       "       [9.9981022e-01],\n",
       "       ...,\n",
       "       [4.9833862e-15],\n",
       "       [9.7683144e-01],\n",
       "       [9.9999189e-01]], dtype=float32)"
      ]
     },
     "execution_count": 38,
     "metadata": {},
     "output_type": "execute_result"
    }
   ],
   "source": [
    "# Using the trained optimized machine learning model to make predictions on the prepared test data set\n",
    "y_pred_test = nn2.predict(tv_test_reviews_nn)\n",
    "print(\"Prediction shape: \", y_pred_test.shape)\n",
    "y_pred_test"
   ]
  },
  {
   "cell_type": "code",
   "execution_count": 39,
   "id": "fa4da757",
   "metadata": {},
   "outputs": [
    {
     "name": "stdout",
     "output_type": "stream",
     "text": [
      "100/100 [==============================] - 0s 2ms/step\n"
     ]
    },
    {
     "data": {
      "text/plain": [
       "array([[1],\n",
       "       [1],\n",
       "       [1],\n",
       "       ...,\n",
       "       [0],\n",
       "       [1],\n",
       "       [1]])"
      ]
     },
     "execution_count": 39,
     "metadata": {},
     "output_type": "execute_result"
    }
   ],
   "source": [
    "y_pred_test = nn2.predict(tv_test_reviews_nn)\n",
    "y_classes = (y_pred_test > 0.58).astype(int)\n",
    "y_classes"
   ]
  },
  {
   "cell_type": "code",
   "execution_count": 40,
   "id": "8398ec26",
   "metadata": {},
   "outputs": [],
   "source": [
    "submit = pd.DataFrame(y_classes, columns=['Category'])\n",
    "submit.index.name = 'Id'"
   ]
  },
  {
   "cell_type": "code",
   "execution_count": 41,
   "id": "36152e67",
   "metadata": {},
   "outputs": [],
   "source": [
    "submit.to_csv('test_file_kaggle_output_submission_124.csv', header=True, index=True)"
   ]
  }
 ],
 "metadata": {
  "kernelspec": {
   "display_name": "Python 3 (ipykernel)",
   "language": "python",
   "name": "python3"
  },
  "language_info": {
   "codemirror_mode": {
    "name": "ipython",
    "version": 3
   },
   "file_extension": ".py",
   "mimetype": "text/x-python",
   "name": "python",
   "nbconvert_exporter": "python",
   "pygments_lexer": "ipython3",
   "version": "3.9.7"
  }
 },
 "nbformat": 4,
 "nbformat_minor": 5
}
